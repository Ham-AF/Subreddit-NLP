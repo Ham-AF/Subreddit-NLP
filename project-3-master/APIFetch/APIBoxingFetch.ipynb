{
 "cells": [
  {
   "cell_type": "code",
   "execution_count": 2,
   "metadata": {},
   "outputs": [],
   "source": [
    "import pandas as pd\n",
    "import requests\n",
    "import numpy as np\n",
    "import time"
   ]
  },
  {
   "cell_type": "code",
   "execution_count": 3,
   "metadata": {},
   "outputs": [],
   "source": [
    "utc = 1610656849"
   ]
  },
  {
   "cell_type": "code",
   "execution_count": 4,
   "metadata": {},
   "outputs": [
    {
     "data": {
      "text/html": [
       "<div>\n",
       "<style scoped>\n",
       "    .dataframe tbody tr th:only-of-type {\n",
       "        vertical-align: middle;\n",
       "    }\n",
       "\n",
       "    .dataframe tbody tr th {\n",
       "        vertical-align: top;\n",
       "    }\n",
       "\n",
       "    .dataframe thead th {\n",
       "        text-align: right;\n",
       "    }\n",
       "</style>\n",
       "<table border=\"1\" class=\"dataframe\">\n",
       "  <thead>\n",
       "    <tr style=\"text-align: right;\">\n",
       "      <th></th>\n",
       "      <th>title</th>\n",
       "      <th>created_utc</th>\n",
       "      <th>subreddit</th>\n",
       "    </tr>\n",
       "  </thead>\n",
       "  <tbody>\n",
       "  </tbody>\n",
       "</table>\n",
       "</div>"
      ],
      "text/plain": [
       "Empty DataFrame\n",
       "Columns: [title, created_utc, subreddit]\n",
       "Index: []"
      ]
     },
     "execution_count": 4,
     "metadata": {},
     "output_type": "execute_result"
    }
   ],
   "source": [
    "posts_master = pd.DataFrame(columns=['title', 'created_utc', 'subreddit'])\n",
    "posts_master"
   ]
  },
  {
   "cell_type": "code",
   "execution_count": 6,
   "metadata": {},
   "outputs": [
    {
     "name": "stdout",
     "output_type": "stream",
     "text": [
      "[{'all_awardings': [], 'allow_live_comments': False, 'author': 'ElPuas2003', 'author_flair_css_class': 'ali', 'author_flair_richtext': [{'e': 'text', 't': 'Estrada-Chocolatito 2 \"The Wet Dream Rematch\" Coming March 13th '}], 'author_flair_template_id': '0c4175d6-6b30-11e7-bd0b-0ecf071c2338', 'author_flair_text': 'Estrada-Chocolatito 2 \"The Wet Dream Rematch\" Coming March 13th ', 'author_flair_text_color': 'dark', 'author_flair_type': 'richtext', 'author_fullname': 't2_55q9syt4', 'author_patreon_flair': False, 'author_premium': False, 'awarders': [], 'can_mod_post': False, 'contest_mode': False, 'created_utc': 1610656499, 'domain': 'boxingscene.com', 'full_link': 'https://www.reddit.com/r/Boxing/comments/kxe5jk/rakhimov_tests_positive_for_covid19_out_of_213/', 'gildings': {}, 'id': 'kxe5jk', 'is_crosspostable': True, 'is_meta': False, 'is_original_content': False, 'is_reddit_media_domain': False, 'is_robot_indexable': True, 'is_self': False, 'is_video': False, 'link_flair_background_color': '', 'link_flair_richtext': [], 'link_flair_text_color': 'dark', 'link_flair_type': 'text', 'locked': False, 'media_only': False, 'no_follow': False, 'num_comments': 15, 'num_crossposts': 0, 'over_18': False, 'parent_whitelist_status': 'no_ads', 'permalink': '/r/Boxing/comments/kxe5jk/rakhimov_tests_positive_for_covid19_out_of_213/', 'pinned': False, 'post_hint': 'link', 'preview': {'enabled': False, 'images': [{'id': 'wOr7j36na8oA6BC1IjOLc2-DXZqzq8tud4Mex1aiswY', 'resolutions': [{'height': 72, 'url': 'https://external-preview.redd.it/FHIgTzVBVmvGexy153cveSdql7oQcTajTpSZj0WUDAI.jpg?width=108&amp;crop=smart&amp;auto=webp&amp;s=4723ce532abce7bc1a9df20cb5f5f05adf33ab89', 'width': 108}, {'height': 144, 'url': 'https://external-preview.redd.it/FHIgTzVBVmvGexy153cveSdql7oQcTajTpSZj0WUDAI.jpg?width=216&amp;crop=smart&amp;auto=webp&amp;s=d6304af126704dc284ffd4abb972c0520c9f8808', 'width': 216}, {'height': 213, 'url': 'https://external-preview.redd.it/FHIgTzVBVmvGexy153cveSdql7oQcTajTpSZj0WUDAI.jpg?width=320&amp;crop=smart&amp;auto=webp&amp;s=e5fe7489c0a94d0821b42c50b36b303fcaf1f704', 'width': 320}, {'height': 426, 'url': 'https://external-preview.redd.it/FHIgTzVBVmvGexy153cveSdql7oQcTajTpSZj0WUDAI.jpg?width=640&amp;crop=smart&amp;auto=webp&amp;s=e4b8da64cdb625c66b927e6dd88d531f2162ba1d', 'width': 640}], 'source': {'height': 480, 'url': 'https://external-preview.redd.it/FHIgTzVBVmvGexy153cveSdql7oQcTajTpSZj0WUDAI.jpg?auto=webp&amp;s=cbc78cb66e2bcac3ed132795715cc872a613a4d9', 'width': 720}, 'variants': {}}]}, 'pwls': 0, 'retrieved_on': 1610657440, 'score': 3, 'selftext': '', 'send_replies': True, 'spoiler': False, 'stickied': False, 'subreddit': 'Boxing', 'subreddit_id': 't5_2qj0l', 'subreddit_subscribers': 1017620, 'subreddit_type': 'public', 'suggested_sort': 'confidence', 'thumbnail': 'https://b.thumbs.redditmedia.com/6AdtUBNpEFilcjGoxmScNpNIF0uLSNlZOu2kLzNgQaM.jpg', 'thumbnail_height': 93, 'thumbnail_width': 140, 'title': 'Rakhimov Tests Positive For COVID-19, Out Of 2/13 Title Fight With Joseph Diaz Jr.', 'total_awards_received': 0, 'treatment_tags': [], 'upvote_ratio': 1.0, 'url': 'https://www.boxingscene.com/rakhimov-tests-positive-covid-19-out-213-title-fight-with-joseph-diaz-jr--154720', 'url_overridden_by_dest': 'https://www.boxingscene.com/rakhimov-tests-positive-covid-19-out-213-title-fight-with-joseph-diaz-jr--154720', 'whitelist_status': 'no_ads', 'wls': 0}]\n"
     ]
    }
   ],
   "source": [
    "utc = 1610656849\n",
    "for pull in range(1):\n",
    "    query = f'https://api.pushshift.io/reddit/search/submission/?subreddit=Boxing&size=1&before={utc}'\n",
    "    res = requests.get(query)\n",
    "    data = res.json()['data']\n",
    "    pull_dict = {\n",
    "        'title': [],\n",
    "        'subreddit': [],\n",
    "        'created_utc': [],\n",
    "    }\n",
    "    for i in data:\n",
    "        pull_dict['title'].append(i['title'])\n",
    "        pull_dict['subreddit'].append(i['subreddit'])\n",
    "        pull_dict['created_utc'].append(i['created_utc'])\n",
    "#     temp_posts = pd.DataFrame(pull_dict)\n",
    "#     posts_master = pd.concat([posts_master, temp_posts])\n",
    "#     utc = posts_master['created_utc'].astype('int64').min()\n",
    "#     time.sleep(3)\n",
    "#     print(f'pull number {pull + 1} complete')\n",
    "print(data)"
   ]
  },
  {
   "cell_type": "code",
   "execution_count": 14,
   "metadata": {},
   "outputs": [
    {
     "data": {
      "text/html": [
       "<div>\n",
       "<style scoped>\n",
       "    .dataframe tbody tr th:only-of-type {\n",
       "        vertical-align: middle;\n",
       "    }\n",
       "\n",
       "    .dataframe tbody tr th {\n",
       "        vertical-align: top;\n",
       "    }\n",
       "\n",
       "    .dataframe thead th {\n",
       "        text-align: right;\n",
       "    }\n",
       "</style>\n",
       "<table border=\"1\" class=\"dataframe\">\n",
       "  <thead>\n",
       "    <tr style=\"text-align: right;\">\n",
       "      <th></th>\n",
       "      <th>title</th>\n",
       "      <th>created_utc</th>\n",
       "      <th>subreddit</th>\n",
       "    </tr>\n",
       "  </thead>\n",
       "  <tbody>\n",
       "    <tr>\n",
       "      <th>0</th>\n",
       "      <td>Rakhimov Tests Positive For COVID-19, Out Of 2...</td>\n",
       "      <td>1610656499</td>\n",
       "      <td>Boxing</td>\n",
       "    </tr>\n",
       "    <tr>\n",
       "      <th>1</th>\n",
       "      <td>Sylvester Stallone | Training For Rocky III</td>\n",
       "      <td>1610656479</td>\n",
       "      <td>Boxing</td>\n",
       "    </tr>\n",
       "    <tr>\n",
       "      <th>2</th>\n",
       "      <td>Devin Haney Questions Vasiliy Lomachenko: “Do ...</td>\n",
       "      <td>1610655957</td>\n",
       "      <td>Boxing</td>\n",
       "    </tr>\n",
       "    <tr>\n",
       "      <th>3</th>\n",
       "      <td>Road \"Gallo\" Estrada vs \"Chocolatito\" Gonzalez...</td>\n",
       "      <td>1610655572</td>\n",
       "      <td>Boxing</td>\n",
       "    </tr>\n",
       "    <tr>\n",
       "      <th>4</th>\n",
       "      <td>Kell Brook accepts Amir Khan's challenge for f...</td>\n",
       "      <td>1610655530</td>\n",
       "      <td>Boxing</td>\n",
       "    </tr>\n",
       "    <tr>\n",
       "      <th>...</th>\n",
       "      <td>...</td>\n",
       "      <td>...</td>\n",
       "      <td>...</td>\n",
       "    </tr>\n",
       "    <tr>\n",
       "      <th>95</th>\n",
       "      <td>ward vs kovalev, till this day, I've no idea h...</td>\n",
       "      <td>1606248196</td>\n",
       "      <td>Boxing</td>\n",
       "    </tr>\n",
       "    <tr>\n",
       "      <th>96</th>\n",
       "      <td>Joyce vs Dubois PPV</td>\n",
       "      <td>1606246960</td>\n",
       "      <td>Boxing</td>\n",
       "    </tr>\n",
       "    <tr>\n",
       "      <th>97</th>\n",
       "      <td>Hello lads I would like to be informed on what...</td>\n",
       "      <td>1606246173</td>\n",
       "      <td>Boxing</td>\n",
       "    </tr>\n",
       "    <tr>\n",
       "      <th>98</th>\n",
       "      <td>Canto Robledo ABC Interview</td>\n",
       "      <td>1606245761</td>\n",
       "      <td>Boxing</td>\n",
       "    </tr>\n",
       "    <tr>\n",
       "      <th>99</th>\n",
       "      <td>Who remembers when Pacquiao Got Knocked Out ?</td>\n",
       "      <td>1606245142</td>\n",
       "      <td>Boxing</td>\n",
       "    </tr>\n",
       "  </tbody>\n",
       "</table>\n",
       "<p>5000 rows × 3 columns</p>\n",
       "</div>"
      ],
      "text/plain": [
       "                                                title created_utc subreddit\n",
       "0   Rakhimov Tests Positive For COVID-19, Out Of 2...  1610656499    Boxing\n",
       "1         Sylvester Stallone | Training For Rocky III  1610656479    Boxing\n",
       "2   Devin Haney Questions Vasiliy Lomachenko: “Do ...  1610655957    Boxing\n",
       "3   Road \"Gallo\" Estrada vs \"Chocolatito\" Gonzalez...  1610655572    Boxing\n",
       "4   Kell Brook accepts Amir Khan's challenge for f...  1610655530    Boxing\n",
       "..                                                ...         ...       ...\n",
       "95  ward vs kovalev, till this day, I've no idea h...  1606248196    Boxing\n",
       "96                                Joyce vs Dubois PPV  1606246960    Boxing\n",
       "97  Hello lads I would like to be informed on what...  1606246173    Boxing\n",
       "98                        Canto Robledo ABC Interview  1606245761    Boxing\n",
       "99      Who remembers when Pacquiao Got Knocked Out ?  1606245142    Boxing\n",
       "\n",
       "[5000 rows x 3 columns]"
      ]
     },
     "execution_count": 14,
     "metadata": {},
     "output_type": "execute_result"
    }
   ],
   "source": [
    "posts_master"
   ]
  },
  {
   "cell_type": "code",
   "execution_count": 15,
   "metadata": {},
   "outputs": [],
   "source": [
    "posts_master.to_csv(r'Data\\Boxing.csv', index = False)"
   ]
  },
  {
   "cell_type": "code",
   "execution_count": null,
   "metadata": {},
   "outputs": [],
   "source": []
  }
 ],
 "metadata": {
  "kernelspec": {
   "display_name": "Python 3",
   "language": "python",
   "name": "python3"
  },
  "language_info": {
   "codemirror_mode": {
    "name": "ipython",
    "version": 3
   },
   "file_extension": ".py",
   "mimetype": "text/x-python",
   "name": "python",
   "nbconvert_exporter": "python",
   "pygments_lexer": "ipython3",
   "version": "3.8.5"
  }
 },
 "nbformat": 4,
 "nbformat_minor": 4
}
